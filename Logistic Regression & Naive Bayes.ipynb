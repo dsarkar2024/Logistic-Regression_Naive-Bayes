{
 "cells": [
  {
   "cell_type": "markdown",
   "metadata": {
    "id": "Z7_hx8SJJR4-"
   },
   "source": [
    "# Assignment 2 - Logistic Regression & Naive Bayes\n",
    "\n",
    "Due by 11:59pm, March 23, 2023\n",
    "\n",
    "Name: Debasrita Sarkar\n",
    "\n",
    "ID: A20544597"
   ]
  },
  {
   "cell_type": "markdown",
   "metadata": {
    "id": "pyGrk2X_J_1h"
   },
   "source": [
    "## Theory Questions (Full points: 40, each question 5 points)"
   ]
  },
  {
   "cell_type": "markdown",
   "metadata": {
    "id": "b8OnMEI0JXxA"
   },
   "source": [
    "1. Explain the importance of setting up learning rate in the gradient descent based methods. For example, what would happen if the learning rate is too large/small?"
   ]
  },
  {
   "cell_type": "markdown",
   "metadata": {
    "id": "uv3iz5dBJX7Z"
   },
   "source": [
    "**Answer:**\n",
    "\n",
    "Setting the learning rate in gradient descent-based methods is a crucial aspect of training machine learning models as it directly influences the convergence and stability of the optimization process. The learning rate determines the size of the steps taken during the optimization process, affecting how quickly or slowly the model converges to the optimal solution.\n",
    "\n",
    "Learning rate is too large: If the learning rate is too large, the optimization algorithm might overshoot beacuse the steps taken during optimization are so large that the algorithm \"bounces\" back and forth across the minimum point without settling down resulting in a failure to converge.\n",
    "\n",
    "Learning rate is too small: If the learning rate is too small, the optimization process may take excessively small steps. This can lead to extremely slow convergence, and the model may require an impractical amount of time to reach the optimal solution. A very small learning rate can cause the algorithm to get stuck in local minima, making it difficult for the model to escape and find the global minimum."
   ]
  },
  {
   "cell_type": "markdown",
   "metadata": {
    "id": "wO8kErgCJX-P"
   },
   "source": [
    "2. What is the stochastic gradient descent? Why do we need stochastic gradient descent?"
   ]
  },
  {
   "cell_type": "markdown",
   "metadata": {
    "id": "nEviYAL2JeWs"
   },
   "source": [
    "**Answer:**\n",
    "\n",
    "Stochastic Gradient Descent (SGD) is a variant of the Gradient Descent algorithm that is used for optimizing machine learning models. In SGD, instead of using the entire dataset for each iteration, only a single random training example (or a small batch) is selected to calculate the gradient and update the model parameters. This random selection introduces randomness into the optimization process, hence the term “stochastic” in stochastic Gradient Descent.\n",
    "\n",
    "**Need**\n",
    "\n",
    "a) When dealing with large datasets, computing the gradient of the entire dataset can be computationally expensive and time-consuming. SGD offers a more efficient alternative by updating the model parameters using only a small subset (or even just one sample) of the dataset at a time, reducing the computational burden.\n",
    "\n",
    "b) SGD introduces randomness into the optimization process, which can help prevent the model from getting stuck in local minima and saddle points. This randomness encourages the model to explore different regions of the parameter space, leading to potentially better generalization on unseen data.\n",
    "\n",
    "c) The stochastic nature of SGD allows for easy parallelization across multiple processors or machines. Each processor can independently compute gradients for different subsets of the data, which can significantly speed up the training process, especially for large-scale models.\n",
    "\n",
    "d) The inherent noise in SGD acts as a form of regularization, preventing the model from overfitting to the training data. By introducing random fluctuations in the parameter updates, SGD helps to smooth out the optimization process, leading to better generalization performance.\n",
    "\n",
    "e) SGD allows for adaptive learning rates, meaning that the step size can be adjusted dynamically based on the characteristics of the optimization landscape. Techniques like learning rate schedules and adaptive learning rate methods (e.g., Adam, RMSProp) can be easily integrated with SGD to improve convergence speed and stability."
   ]
  },
  {
   "cell_type": "markdown",
   "metadata": {
    "id": "9vQD3sgwJYBS"
   },
   "source": [
    "3. Explain the reasons to perform feature scaling."
   ]
  },
  {
   "cell_type": "markdown",
   "metadata": {
    "id": "t-e37RdDJfmd"
   },
   "source": [
    "**Answer:**\n",
    "\n",
    "Feature scaling is necessary in machine learning to:\n",
    "\n",
    "a) Bring all features in a dataset to a comparable scale, ensuring that each feature contributes equally to the model and that no one feature dominates it.\n",
    "\n",
    "b) Improve model convergence, allowing models, particularly gradient-descent based models to efficiently find optimal parameters and converge more easily.\n",
    "\n",
    "c) Prevent feature dominance, making sure that no one feature is given more emphasis or dominates the presence of other features due to differences in unit measurements.\n",
    "\n",
    "d) Map the feature values of a dataset into the same range, which is crucial for some machine learning algorithms, which consider distances between observations because the distance between two observations differs for non-scaled and scaled cases."
   ]
  },
  {
   "cell_type": "markdown",
   "metadata": {
    "id": "dOqhvEpuJYEX"
   },
   "source": [
    "4. What is the probabilistic generative model?"
   ]
  },
  {
   "cell_type": "markdown",
   "metadata": {
    "id": "rf5JjDFDJe6G"
   },
   "source": [
    "**Answer:**\n",
    "\n",
    "Probabilistic Generative models aim to model the joint distribution of the input and output variables. These models generate new data based on the probability distribution of the original dataset. Generative models are powerful because they can generate new data that resembles the training data. They can be used for tasks such as image and speech synthesis, language translation, and text generation."
   ]
  },
  {
   "cell_type": "markdown",
   "metadata": {
    "id": "W8V802XDJjxe"
   },
   "source": [
    "5. Explain how we perform maximum likelihood."
   ]
  },
  {
   "cell_type": "markdown",
   "metadata": {
    "id": "S3PrgB7kJl99"
   },
   "source": [
    "**Answer:**\n",
    "\n",
    "**Define the Likelihood Function:**\n",
    "The likelihood function represents the probability of observing the given data, given the model parameters.\n",
    "For instance, if we have a set of data points $(x_1, x_2, …, x_n)$ and a model with parameters $(\\theta_1, \\theta_2, …, \\theta_k)$, the likelihood function (L(\\theta_1, \\theta_2, …, \\theta_k)) is defined as the joint probability of observing the data points: $L(\\theta_1, \\theta_2, …, \\theta_k) = P(x_1, x_2, …, x_n | \\theta_1, \\theta_2, …, \\theta_k)$\n",
    "\n",
    "**Take the Logarithm:**\n",
    "To simplify calculations, we often work with the log-likelihood (log-Likelihood): $\\log L(\\theta_1, \\theta_2, …, \\theta_k) = \\log(P(x_1, x_2, …, x_n | \\theta_1, \\theta_2, …, \\theta_k))$\n",
    "\n",
    "**Find the Maximum:**\n",
    "The goal is to find the parameter values that maximize the likelihood (or log-likelihood).\n",
    "Typically, we take the derivative of the log-likelihood with respect to each parameter and set it equal to zero (i.e., finding the critical points).\n",
    "Solving these equations gives the MLE estimates for the parameters.\n",
    "\n",
    "**Interpretation:**\n",
    "The MLE estimates provide the “best” parameter values that maximize the likelihood of observing the data.\n",
    "In other words, they are the parameter values that make the observed data most probable under the given model.\n",
    "\n"
   ]
  },
  {
   "cell_type": "markdown",
   "metadata": {
    "id": "3kUcM98LJj9N"
   },
   "source": [
    "6. Explain the reasons about using cross entropy loss in logistic regression."
   ]
  },
  {
   "cell_type": "markdown",
   "metadata": {
    "id": "xuECRF2PJk81"
   },
   "source": [
    "**Answer:**\n",
    "\n",
    "**Classification Objective:**\n",
    "\n",
    "-Logistic regression is primarily used for binary classification, where we aim to predict one of two possible outcomes (e.g., spam or not spam, disease or no disease).\n",
    "\n",
    "-Cross-entropy loss is well-suited for classification tasks because it quantifies the difference between predicted probabilities and actual class labels.\n",
    "\n",
    "**Probabilistic Interpretation:**\n",
    "\n",
    "-Logistic regression models the probability of an input belonging to a particular class using the sigmoid function.\n",
    "\n",
    "-Cross-entropy loss measures the discrepancy between the predicted probabilities and the true class labels.\n",
    "\n",
    "-By minimizing this loss, the model learns to assign higher probabilities to the correct class.\n",
    "\n",
    "**Convexity and Optimization:**\n",
    "\n",
    "-Cross-entropy loss results in a convex optimization problem for logistic regression.\n",
    "\n",
    "-Convexity ensures that gradient-based optimization methods (e.g., gradient descent) converge to the global minimum efficiently.\n",
    "\n",
    "-In contrast, other loss functions may lead to non-convex landscapes, making optimization more challenging.\n",
    "\n",
    "**Interpretability:**\n",
    "\n",
    "-Cross-entropy loss provides a clear interpretation: it measures the information gain when comparing predicted probabilities to true labels.\n",
    "\n",
    "-Minimizing cross-entropy encourages the model to assign high probabilities to the correct class and low probabilities to the incorrect class.\n",
    "\n",
    "**Multiclass Extension:**\n",
    "\n",
    "-Cross-entropy loss naturally extends to multiclass classification (e.g., predicting more than two classes).\n",
    "\n",
    "-For multiclass problems, we use softmax activation and compute the cross-entropy loss across all classes.\n",
    "\n",
    "**Commonly Used:**\n",
    "\n",
    "-Cross-entropy loss is widely adopted in practice due to its effectiveness and theoretical properties.\n",
    "\n",
    "-It is used not only in logistic regression but also in other models like neural networks."
   ]
  },
  {
   "cell_type": "markdown",
   "metadata": {
    "id": "q8bCRVRaJkBP"
   },
   "source": [
    "7. Explain the differences between discriminative and generative model.\n"
   ]
  },
  {
   "cell_type": "markdown",
   "metadata": {
    "id": "YEdAdRiu1ksO"
   },
   "source": [
    "**Answer:**\n",
    "\n",
    "1. **Generative model**- Models the joint probability distribution of the input characteristics and labels in a generative manner.\n",
    "   \n",
    "   **Discriminative model**- Modeling the conditional probability distribution of labels given input attributes is the main focus of discriminative modeling.\n",
    "\n",
    "2. **Generative model**- Creates new samples by learning the distribution of the underlying data.\n",
    "   \n",
    "   **Discriminative model**- Acquires the threshold of judgment that distinguishes various classes or categories.\n",
    "\n",
    "3. **Generative model** - Text generation and image synthesis are examples of generative tasks.\n",
    "   \n",
    "   **Discriminative model**- Used in activities like sentiment analysis and image categorization.\n",
    "\n",
    "4. **Generative model**- Effective with inadequate or missing data \n",
    "   \n",
    "   **Discriminative model**- Excellent at distinguishing between classes or categories is discrimination.\n",
    "\n",
    "5. **Generative model**- May have trouble distinguishing different classes in large datasets.\n",
    "   \n",
    "   **Discriminative model**- Less useful when dealing with incomplete or missing data."
   ]
  },
  {
   "cell_type": "markdown",
   "metadata": {
    "id": "dcZpkIc01Rwe"
   },
   "source": [
    "8. What is N-folds? Explain the reasons why we need N-folds. "
   ]
  },
  {
   "cell_type": "markdown",
   "metadata": {
    "id": "M-h519EbJmbz"
   },
   "source": [
    "**Answer:**\n",
    "\n",
    "An n-fold category is obtained by iteratively forming internal categories n times. We start with sets: an 0-fold category is simply an object (like a set) from the ambient category. Then, inductively, an n+1-fold category is an internal category within the category of n-fold categories.\n",
    "\n",
    "**Need:**\n",
    "\n",
    "1. One key advantage lies in the ease of expressing multiple compositions. This concept is essential because it provides an “algebraic inverse to subdivision.” Subdivision plays a crucial role in many local-to-global problems in mathematics and science.\n",
    "\n",
    "2. Unlike n-categories, where sources of composition involve cells of various dimensions, n-fold categories have sources and targets given by k-1 cells (faces). This intuitive representation allows us to visualize k-cells as k-dimensional cubes with orientations for opposite faces, making composition akin to pasting cubes coherently along these faces12."
   ]
  },
  {
   "cell_type": "markdown",
   "metadata": {
    "id": "8AiWTVDf7cZ2"
   },
   "source": [
    "## Programming Questions (Full points: 60, each question 30 points)"
   ]
  },
  {
   "cell_type": "code",
   "execution_count": 33,
   "metadata": {
    "id": "hUXdV3L376cA"
   },
   "outputs": [],
   "source": [
    "# Do not edit the codes in this cell\n",
    "# load required library\n",
    "import matplotlib.pyplot as plt\n",
    "import numpy as np\n",
    "from sklearn.datasets import load_wine\n",
    "# load dataset\n",
    "x, y = load_wine(return_X_y=True)"
   ]
  },
  {
   "cell_type": "markdown",
   "metadata": {
    "id": "8iwaee_T-Urj"
   },
   "source": [
    "### - Logistic Regression"
   ]
  },
  {
   "cell_type": "markdown",
   "metadata": {
    "id": "zyrt2Ka7VFYK"
   },
   "source": [
    "0. train_test_split (Done in the below cell)\n",
    "\n",
    "We **randomly** split data into train and test set. The number of training data and testing data is 100 and 30, respectively. Do not modify the split data. You need to use training data to train your model and obtain an optimal solution. Finally, using your model with the optimal solution to predict the testing data. "
   ]
  },
  {
   "cell_type": "code",
   "execution_count": 34,
   "metadata": {
    "id": "9M1DAu9XPY8E"
   },
   "outputs": [],
   "source": [
    "# Do not edit the codes in this cell\n",
    "# We split train and test data for logistic regression function\n",
    "\n",
    "test_lists = [0, 4, 5, 7, 13, 15, 19, 27, 28, 30, 31, 34, 39, 47, 63, 74, 78, 83, 90, 92, 95, 97, 103, 113, 119, 122, 123, 125, 126, 127]\n",
    "\n",
    "x = x[:130, :]\n",
    "y = y[:130]\n",
    "\n",
    "# training data: you can use it to training your model.\n",
    "train_x = np.array([sub_x for index, sub_x in enumerate(x) if index not in test_lists])\n",
    "train_y = np.array([sub_y for index, sub_y in enumerate(y) if index not in test_lists])\n",
    "\n",
    "# testing data: ONLY use it to measure your model, do NOT use during training.\n",
    "test_x = np.array([sub_x for index, sub_x in enumerate(x) if index in test_lists])\n",
    "test_y = np.array([sub_y for index, sub_y in enumerate(y) if index in test_lists])"
   ]
  },
  {
   "cell_type": "markdown",
   "metadata": {
    "id": "4LdQ5yubLJld"
   },
   "source": [
    "In the assignment 2, you have more freedom on your programming design. In this part, you are going to implement your own Logistic Regression function. You need to implement logistic regression with stochastic gradient descent from scratch. The required functions are listed below. You can add more functions as you need. **No library versions of logistic regression are allowed**. \n",
    "_________\n",
    "\n",
    "1. train_val_split\n",
    "\n",
    "**Randomly** split training data into train and val set. 80% of the training data will be the train set and 20% of the training data will be the val set.\n",
    "\n",
    "2. normalization (data preprocessing)\n",
    "\n",
    "You should normalize all data for each attribute firstly. \n",
    "\n",
    "3. sigmoid\n",
    "\n",
    "The core of logistic regression\n",
    "\n",
    "4. predict\n",
    "\n",
    "Predict an output value for a given x with a set of coefficients. \n",
    "\n",
    "5. accurate\n",
    "\n",
    "Calculate accuracy percentage of the predictions.\n",
    "\n",
    "6. coef_gd\n",
    "\n",
    "Estimate logistic regression coefficients using **vanilla gradient descent**. Using **the cross entropy loss**. Carefully choose learning rate and epochs values.\n",
    "\n",
    "7. draw_model\n",
    "\n",
    "a) Plot the both training loss and validation loss for each epochs.\n",
    "\n",
    "b) Plot the both training accuracy and validation accuracy for each epochs. \n",
    "\n",
    "8. predict the testing data\n",
    "\n",
    "Use your pre-trained model to predict the testing data. Print out your **testing accurate**. Is it good? If not, analyze the reason in short and modify your code to improve.  \n"
   ]
  },
  {
   "cell_type": "code",
   "execution_count": 38,
   "metadata": {
    "id": "6AHamaj3f5xY"
   },
   "outputs": [
    {
     "name": "stdout",
     "output_type": "stream",
     "text": [
      "Training Accuracy: 97.5\n",
      "Testing Accuracy: 85.0\n"
     ]
    },
    {
     "data": {
      "image/png": "[encoded data removed]",
      "text/plain": [
       "<Figure size 1200x500 with 2 Axes>"
      ]
     },
     "metadata": {},
     "output_type": "display_data"
    }
   ],
   "source": [
    "import random\n",
    "import pandas as pd\n",
    "\n",
    "\n",
    "def train_val_split(train_x, train_y, split_ratio=0.8):\n",
    "    \n",
    "    # Randomly shuffle indices\n",
    "    indices = np.arange(train_x.shape[0])\n",
    "    np.random.shuffle(indices)\n",
    "\n",
    "    # Calculate split index\n",
    "    split_idx = int(len(indices) * split_ratio)\n",
    "\n",
    "    # Split data\n",
    "    train_indices = indices[:split_idx]\n",
    "    val_indices = indices[split_idx:]\n",
    "\n",
    "    # Create train and validation sets\n",
    "    train_set = (train_x[train_indices], train_y[train_indices])\n",
    "    val_set = (train_x[val_indices], train_y[val_indices])\n",
    "\n",
    "    return train_set, val_set\n",
    "\n",
    "def normalization(data):\n",
    "    min_vals = np.min(data, axis=0)\n",
    "    max_vals = np.max(data, axis=0)\n",
    "    ranges = max_vals - min_vals\n",
    "\n",
    "    normalized_data = (data - min_vals) / ranges\n",
    "\n",
    "    return normalized_data\n",
    "\n",
    "def sigmoid(z):\n",
    "    return 1 / (1 + np.exp(-z))\n",
    "\n",
    "def predict(X, coefficients):\n",
    "    z = np.dot(X, coefficients)\n",
    "    return sigmoid(z)\n",
    "\n",
    "def accuracy(y_true, y_pred):\n",
    "    correct = np.sum(y_true == y_pred)\n",
    "    total = len(y_true)\n",
    "    return correct / total * 100\n",
    "\n",
    "def coef_gd(train_x, train_y, val_x, val_y, learning_rate=0.05, epochs=2000):\n",
    "    num_features = train_x.shape[1]\n",
    "    coefficients = np.zeros(num_features)\n",
    "    train_losses = []\n",
    "    val_losses = []\n",
    "\n",
    "    for epoch in range(epochs):\n",
    "        # Compute predictions for training and validation sets\n",
    "        train_predictions = predict(train_x, coefficients)\n",
    "        val_predictions = predict(val_x, coefficients)\n",
    "\n",
    "        # Compute losses for training and validation sets\n",
    "        train_loss = -np.mean(train_y * np.log(train_predictions) + (1 - train_y) * np.log(1 - train_predictions))\n",
    "        val_loss = -np.mean(val_y * np.log(val_predictions) + (1 - val_y) * np.log(1 - val_predictions))\n",
    "\n",
    "        # Update coefficients using gradient descent\n",
    "        error = train_y - train_predictions\n",
    "        gradient = np.dot(train_x.T, error) / len(train_y)\n",
    "        coefficients += learning_rate * gradient\n",
    "\n",
    "        # Append losses to the lists\n",
    "        train_losses.append(train_loss)\n",
    "        val_losses.append(val_loss)\n",
    "\n",
    "    return coefficients, train_losses, val_losses\n",
    "\n",
    "\n",
    "def draw_model(train_loss, val_loss, train_acc, val_acc):\n",
    "    epochs = range(1, len(train_loss) + 1)\n",
    "    plt.figure(figsize=(12, 5))\n",
    "\n",
    "    # Loss plot\n",
    "    plt.subplot(1, 2, 1)\n",
    "    plt.plot(epochs, train_loss, 'b', label='Training loss')\n",
    "    plt.plot(epochs, val_loss, 'r', label='Testing loss')\n",
    "    plt.title('Training and Testing Loss')\n",
    "    plt.xlabel('Epochs')\n",
    "    plt.ylabel('Loss')\n",
    "    plt.legend()\n",
    "\n",
    "    # Accuracy plot\n",
    "    plt.subplot(1, 2, 2)\n",
    "    plt.plot(epochs, train_acc, 'b', label='Training accuracy')\n",
    "    plt.plot(epochs, val_acc, 'r', label='Testing accuracy')\n",
    "    plt.title('Training and Testing Accuracy')\n",
    "    plt.xlabel('Epochs')\n",
    "    plt.ylabel('Accuracy')\n",
    "    plt.legend()\n",
    "\n",
    "    plt.show()\n",
    "\n",
    "#load the data\n",
    "wine = load_wine()\n",
    "X, y = wine.data, wine.target\n",
    "\n",
    "# Fix the seed for reproducibility\n",
    "np.random.seed(42)\n",
    "\n",
    "#Split the training data into training and validation sets\n",
    "train_set, val_set = train_val_split(train_x, train_y)\n",
    "\n",
    "#Extract features and labels from training and validation sets\n",
    "train_features, train_labels = train_set\n",
    "val_features, val_labels = val_set\n",
    "\n",
    "#Normalize the data\n",
    "train_features_normalized = normalization(train_features)\n",
    "val_features_normalized = normalization(val_features)\n",
    "\n",
    "#Train the logistic regression model on the training set and obtain losses\n",
    "coefficients, train_losses, val_losses = coef_gd(train_features_normalized, train_labels,\n",
    "                                                 val_features_normalized, val_labels)\n",
    "\n",
    "#Make predictions on both the training and validation sets\n",
    "train_predictions = predict(train_features_normalized, coefficients)\n",
    "val_predictions = predict(val_features_normalized, coefficients)\n",
    "\n",
    "#Calculate the accuracy on both sets\n",
    "train_acc = accuracy(train_labels, np.round(train_predictions))\n",
    "val_acc = accuracy(val_labels, np.round(val_predictions))\n",
    "\n",
    "print(\"Training Accuracy:\", train_acc)\n",
    "print(\"Testing Accuracy:\", val_acc)\n",
    "\n",
    "#Visualize the training and validation loss, as well as training and validation accuracy over epochs\n",
    "# Repeat the accuracy values for the length of epochs\n",
    "train_acc_array = np.repeat(train_acc, len(train_losses))\n",
    "val_acc_array = np.repeat(val_acc, len(val_losses))\n",
    "\n",
    "# Plot the training and validation loss, and training and validation accuracy\n",
    "draw_model(train_losses, val_losses, train_acc=train_acc_array, val_acc=val_acc_array)\n",
    "\n"
   ]
  },
  {
   "cell_type": "markdown",
   "metadata": {},
   "source": [
    "The accuracy is good."
   ]
  },
  {
   "cell_type": "markdown",
   "metadata": {
    "id": "7eNsYoFL7pOG"
   },
   "source": [
    "### - Naive Bayes Classifier"
   ]
  },
  {
   "cell_type": "markdown",
   "metadata": {
    "id": "HTuXPz9V8jIA"
   },
   "source": [
    "In this part, you are going to implement your own naive bayes classifier. \n",
    "You need to implement naive bayes classifier from scratch **using the training data of wine datasets train_x and train_y**. The required functions are listed below. You can add more functions as you need. **No library versions of naive bayes classifier are allowed**. \n",
    "_________\n",
    "\n",
    "1. train_val_split\n",
    "\n",
    "**Randomly** split training data into train and val set. 80% of the training data will be the train set and 20% of the training data will be the val set.\n",
    "\n",
    "2. normalization (data preprocessing)\n",
    "\n",
    "You should normalize all data for each attribute firstly. \n",
    "\n",
    "3. cross_validation_split\n",
    "\n",
    "**Randomly** split data into 5 folds.\n",
    "\n",
    "\n",
    "4. predict\n",
    "\n",
    "Predict the class label for a given x. \n",
    "\n",
    "5. accurate\n",
    "\n",
    "Calculate accuracy percentage of the predictions. Remember to average the results of k folds\n",
    "\n",
    "6. gaussian_probability\n",
    "\n",
    "Calculate the Gaussian probability distribution function for the given x. \n",
    "\n",
    "![Image_20210920015911.png](data:image/png;base64,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)\n",
    "\n",
    "\n",
    "5. class_probability\n",
    "\n",
    "Calculate the probabilities of predicting each class for a given x using naive bayes algorithm. Be aware that we have multiple input variables. And you may want to use gaussian_probability function here.\n",
    "\n",
    "*Print out your accuracy result. Is it good? If not, analyze the reason in short. *\n"
   ]
  },
  {
   "cell_type": "code",
   "execution_count": 36,
   "metadata": {
    "id": "f-jO9XrADS92"
   },
   "outputs": [
    {
     "name": "stdout",
     "output_type": "stream",
     "text": [
      "Validation accuracy: 97.14285714285714\n"
     ]
    }
   ],
   "source": [
    "from sklearn.datasets import load_wine\n",
    "import numpy as np\n",
    "\n",
    "class NaiveBayesClassifier:\n",
    "    def __init__(self):\n",
    "        pass\n",
    "    \n",
    "    def train_val_split(self, X, y, val_ratio=0.2):\n",
    "        np.random.seed(42)\n",
    "        n_val = int(len(X) * val_ratio)\n",
    "        indices = np.random.permutation(len(X))\n",
    "        train_idx, val_idx = indices[:-n_val], indices[-n_val:]\n",
    "        X_train, X_val = X[train_idx], X[val_idx]\n",
    "        y_train, y_val = y[train_idx], y[val_idx]\n",
    "        return X_train, X_val, y_train, y_val\n",
    "\n",
    "    def normalization(self, X):\n",
    "        mean = np.mean(X, axis=0)\n",
    "        std = np.std(X, axis=0)\n",
    "        X_normalized = (X - mean) / (std + 1e-8)  # Avoid division by zero\n",
    "        return X_normalized\n",
    "\n",
    "    def cross_validation_split(self, X, y, n_folds=5):\n",
    "        indices = np.random.permutation(len(X))\n",
    "        fold_size = len(X) // n_folds\n",
    "        X_folds = []\n",
    "        y_folds = []\n",
    "        for i in range(n_folds):\n",
    "            start_idx = i * fold_size\n",
    "            end_idx = (i + 1) * fold_size if i < n_folds - 1 else len(X)\n",
    "            X_folds.append(X[indices[start_idx:end_idx]])\n",
    "            y_folds.append(y[indices[start_idx:end_idx]])\n",
    "        return X_folds, y_folds\n",
    "    \n",
    "    def train(self, X_train, y_train):\n",
    "        n_classes = len(np.unique(y_train))\n",
    "        class_means = []\n",
    "        class_stds = []\n",
    "        class_probs = []\n",
    "\n",
    "        for c in range(n_classes):\n",
    "            X_class = X_train[y_train == c]\n",
    "            class_means.append(np.mean(X_class, axis=0))\n",
    "            class_stds.append(np.std(X_class, axis=0))\n",
    "            class_probs.append(len(X_class) / len(X_train))\n",
    "\n",
    "        return class_means, class_stds, class_probs\n",
    "\n",
    "    def predict(self, X, class_means, class_stds, class_probs):\n",
    "        predictions = []\n",
    "        for x in X:\n",
    "            probabilities = self.class_probability(x, class_means, class_stds, class_probs)\n",
    "            predicted_class = np.argmax(probabilities)\n",
    "            predictions.append(predicted_class)\n",
    "        return np.array(predictions)\n",
    "\n",
    "    def accurate(self, y_true, y_pred):\n",
    "        return np.mean(y_true == y_pred)\n",
    "\n",
    "    def gaussian_probability(self, x, mean, std):\n",
    "        exponent = np.exp(-((x - mean) ** 2) / (2 * std ** 2))\n",
    "        return (1 / (np.sqrt(2 * np.pi) * std)) * exponent\n",
    "\n",
    "    def class_probability(self, x, class_means, class_stds, class_probs):\n",
    "        probabilities = []\n",
    "        for i in range(len(class_means)):\n",
    "            prob = class_probs[i]\n",
    "            for j in range(len(class_means[i])):\n",
    "                mean = class_means[i][j]\n",
    "                std = class_stds[i][j]\n",
    "                prob *= self.gaussian_probability(x[j], mean, std)\n",
    "            probabilities.append(prob)\n",
    "        return probabilities\n",
    "\n",
    "# Load wine dataset\n",
    "wine = load_wine()\n",
    "X, y = wine.data, wine.target\n",
    "\n",
    "# Initialize and train Naive Bayes classifier\n",
    "nb_classifier = NaiveBayesClassifier()\n",
    "X_train, X_val, y_train, y_val = nb_classifier.train_val_split(X, y)\n",
    "X_train_normalized = nb_classifier.normalization(X_train)\n",
    "class_means, class_stds, class_probs = nb_classifier.train(X_train_normalized, y_train)\n",
    "\n",
    "# Make predictions on validation set\n",
    "X_val_normalized = nb_classifier.normalization(X_val)\n",
    "y_pred = nb_classifier.predict(X_val_normalized, class_means, class_stds, class_probs)\n",
    "\n",
    "# Calculate accuracy\n",
    "accuracy = nb_classifier.accurate(y_val, y_pred) *100\n",
    "print(\"Validation accuracy:\", accuracy)\n"
   ]
  },
  {
   "cell_type": "markdown",
   "metadata": {},
   "source": [
    "The accuracy is good."
   ]
  },
  {
   "cell_type": "code",
   "execution_count": null,
   "metadata": {},
   "outputs": [],
   "source": []
  }
 ],
 "metadata": {
  "colab": {
   "provenance": []
  },
  "kernelspec": {
   "display_name": "Python 3 (ipykernel)",
   "language": "python",
   "name": "python3"
  },
  "language_info": {
   "codemirror_mode": {
    "name": "ipython",
    "version": 3
   },
   "file_extension": ".py",
   "mimetype": "text/x-python",
   "name": "python",
   "nbconvert_exporter": "python",
   "pygments_lexer": "ipython3",
   "version": "3.11.5"
  },
  "pycharm": {
   "stem_cell": {
    "cell_type": "raw",
    "metadata": {
     "collapsed": false
    },
    "source": []
   }
  }
 },
 "nbformat": 4,
 "nbformat_minor": 1
}
